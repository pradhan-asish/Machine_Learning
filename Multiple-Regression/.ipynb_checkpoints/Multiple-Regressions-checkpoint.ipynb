{
 "cells": [
  {
   "cell_type": "code",
   "execution_count": null,
   "id": "27fc0857",
   "metadata": {},
   "outputs": [],
   "source": [
    "import numpy as np\n",
    "import matplotlib as mpl\n",
    "from mpl_toolkits.mplot3d import Axes3D\n",
    "import matplotlib.pyplot as plt\n",
    " \n",
    "def generate_dataset(n):\n",
    "    x = []\n",
    "    y = []\n",
    "    random_x1 = np.random.rand()\n",
    "    random_x2 = np.random.rand()\n",
    "    for i in range(n):\n",
    "        x1 = i\n",
    "        x2 = i/2 + np.random.rand()*n\n",
    "        x.append([1, x1, x2])\n",
    "        y.append(random_x1 * x1 + random_x2 * x2 + 1)\n",
    "    return np.array(x), np.array(y)\n",
    " \n",
    "x, y = generate_dataset(200)\n",
    " \n",
    "mpl.rcParams['legend.fontsize'] = 12\n",
    " \n",
    "fig = plt.figure()\n",
    "ax = fig.gca(projection ='3d')\n",
    " \n",
    "ax.scatter(x[:, 1], x[:, 2], y, label ='y', s = 5)\n",
    "ax.legend()\n",
    "ax.view_init(45, 0)\n",
    " \n",
    "plt.show()"
   ]
  },
  {
   "cell_type": "code",
   "execution_count": null,
   "id": "52733aa2",
   "metadata": {},
   "outputs": [],
   "source": []
  }
 ],
 "metadata": {
  "kernelspec": {
   "display_name": "Python 3",
   "language": "python",
   "name": "python3"
  },
  "language_info": {
   "codemirror_mode": {
    "name": "ipython",
    "version": 3
   },
   "file_extension": ".py",
   "mimetype": "text/x-python",
   "name": "python",
   "nbconvert_exporter": "python",
   "pygments_lexer": "ipython3",
   "version": "3.8.8"
  }
 },
 "nbformat": 4,
 "nbformat_minor": 5
}
