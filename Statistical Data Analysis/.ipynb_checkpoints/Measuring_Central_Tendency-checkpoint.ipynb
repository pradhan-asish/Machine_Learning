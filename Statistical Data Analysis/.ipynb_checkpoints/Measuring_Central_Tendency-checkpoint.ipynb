{
 "cells": [
  {
   "cell_type": "code",
   "execution_count": 1,
   "id": "4ab1bd4e",
   "metadata": {},
   "outputs": [],
   "source": [
    "#Calculating Mean and Median"
   ]
  },
  {
   "cell_type": "code",
   "execution_count": 2,
   "id": "a6e7a64d",
   "metadata": {},
   "outputs": [
    {
     "name": "stdout",
     "output_type": "stream",
     "text": [
      "Mean Values in the Distribution\n",
      "Age       31.833333\n",
      "Rating     3.743333\n",
      "dtype: float64\n",
      "*******************************\n",
      "Median Values in the Distribution\n",
      "Age       29.50\n",
      "Rating     3.79\n",
      "dtype: float64\n"
     ]
    }
   ],
   "source": [
    "import pandas as pd\n",
    "\n",
    "#Create a Dictionary of series\n",
    "d = {'Name':pd.Series(['Tom','James','Ricky','Vin','Steve','Smith','Jack',\n",
    "   'Lee','Chanchal','Gasper','Naviya','Andres']),\n",
    "   'Age':pd.Series([25,26,25,23,30,29,23,34,40,30,51,46]),\n",
    "   'Rating':pd.Series([4.23,3.24,3.98,2.56,3.20,4.6,3.8,3.78,2.98,4.80,4.10,3.65])}\n",
    "\n",
    "#Create a DataFrame\n",
    "df = pd.DataFrame(d)\n",
    "print(\"Mean Values in the Distribution\")\n",
    "print(df.mean())\n",
    "print(\"*******************************\")\n",
    "print(\"Median Values in the Distribution\")\n",
    "print(df.median())"
   ]
  },
  {
   "cell_type": "code",
   "execution_count": 4,
   "id": "0a519eb4",
   "metadata": {},
   "outputs": [],
   "source": [
    "#Measuring mode"
   ]
  },
  {
   "cell_type": "code",
   "execution_count": 3,
   "id": "153815fd",
   "metadata": {},
   "outputs": [
    {
     "name": "stdout",
     "output_type": "stream",
     "text": [
      "        Name   Age\n",
      "0     Andres  25.0\n",
      "1   Chanchal   NaN\n",
      "2     Gasper   NaN\n",
      "3       Jack   NaN\n",
      "4      James   NaN\n",
      "5        Lee   NaN\n",
      "6     Naviya   NaN\n",
      "7      Ricky   NaN\n",
      "8      Smith   NaN\n",
      "9      Steve   NaN\n",
      "10       Tom   NaN\n",
      "11       Vin   NaN\n"
     ]
    }
   ],
   "source": [
    "import pandas as pd\n",
    "\n",
    "#Create a Dictionary of series\n",
    "d = {'Name':pd.Series(['Tom','James','Ricky','Vin','Steve','Smith','Jack',\n",
    "   'Lee','Chanchal','Gasper','Naviya','Andres']),\n",
    "   'Age':pd.Series([25,26,25,23,30,25,23,34,40,30,25,46])}\n",
    "#Create a DataFrame\n",
    "df = pd.DataFrame(d)\n",
    "\n",
    "print(df.mode())"
   ]
  },
  {
   "cell_type": "code",
   "execution_count": 5,
   "id": "c21544fe",
   "metadata": {},
   "outputs": [],
   "source": [
    "#Measuring Standard Deviation"
   ]
  },
  {
   "cell_type": "code",
   "execution_count": 6,
   "id": "324346d1",
   "metadata": {},
   "outputs": [
    {
     "name": "stdout",
     "output_type": "stream",
     "text": [
      "Age       7.265527\n",
      "Rating    0.661628\n",
      "dtype: float64\n"
     ]
    }
   ],
   "source": [
    "import pandas as pd\n",
    "\n",
    "#Create a Dictionary of series\n",
    "d = {'Name':pd.Series(['Tom','James','Ricky','Vin','Steve','Smith','Jack',\n",
    "   'Lee','Chanchal','Gasper','Naviya','Andres']),\n",
    "   'Age':pd.Series([25,26,25,23,30,25,23,34,40,30,25,46]),\n",
    "   'Rating':pd.Series([4.23,3.24,3.98,2.56,3.20,4.6,3.8,3.78,2.98,4.80,4.10,3.65])}\n",
    "\n",
    "#Create a DataFrame\n",
    "df = pd.DataFrame(d)\n",
    "\n",
    "# Calculate the standard deviation\n",
    "print(df.std())"
   ]
  },
  {
   "cell_type": "code",
   "execution_count": 7,
   "id": "209b5454",
   "metadata": {},
   "outputs": [],
   "source": [
    "#Measuring Skewness\n"
   ]
  },
  {
   "cell_type": "code",
   "execution_count": 8,
   "id": "d936fb1a",
   "metadata": {},
   "outputs": [
    {
     "name": "stdout",
     "output_type": "stream",
     "text": [
      "Age       1.443490\n",
      "Rating   -0.153629\n",
      "dtype: float64\n"
     ]
    }
   ],
   "source": [
    "import pandas as pd\n",
    "\n",
    "#Create a Dictionary of series\n",
    "d = {'Name':pd.Series(['Tom','James','Ricky','Vin','Steve','Smith','Jack',\n",
    "   'Lee','Chanchal','Gasper','Naviya','Andres']),\n",
    "   'Age':pd.Series([25,26,25,23,30,25,23,34,40,30,25,46]),\n",
    "   'Rating':pd.Series([4.23,3.24,3.98,2.56,3.20,4.6,3.8,3.78,2.98,4.80,4.10,3.65])}\n",
    "\n",
    "#Create a DataFrame\n",
    "df = pd.DataFrame(d)\n",
    "print(df.skew())"
   ]
  },
  {
   "cell_type": "code",
   "execution_count": null,
   "id": "40773925",
   "metadata": {},
   "outputs": [],
   "source": []
  }
 ],
 "metadata": {
  "kernelspec": {
   "display_name": "Python 3",
   "language": "python",
   "name": "python3"
  },
  "language_info": {
   "codemirror_mode": {
    "name": "ipython",
    "version": 3
   },
   "file_extension": ".py",
   "mimetype": "text/x-python",
   "name": "python",
   "nbconvert_exporter": "python",
   "pygments_lexer": "ipython3",
   "version": "3.8.8"
  }
 },
 "nbformat": 4,
 "nbformat_minor": 5
}
