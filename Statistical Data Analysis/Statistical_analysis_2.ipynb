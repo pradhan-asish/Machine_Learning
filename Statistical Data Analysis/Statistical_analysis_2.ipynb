{
 "cells": [
  {
   "cell_type": "code",
   "execution_count": 1,
   "id": "a60ff68a",
   "metadata": {},
   "outputs": [],
   "source": [
    "import math\n",
    "import statistics\n",
    "import numpy as np\n",
    "import scipy.stats\n",
    "import pandas as pd"
   ]
  },
  {
   "cell_type": "code",
   "execution_count": 2,
   "id": "8cbbb881",
   "metadata": {},
   "outputs": [
    {
     "data": {
      "text/plain": [
       "[8.0, 1, 2.5, 4, 28.0]"
      ]
     },
     "execution_count": 2,
     "metadata": {},
     "output_type": "execute_result"
    }
   ],
   "source": [
    "x = [8.0, 1, 2.5, 4, 28.0]\n",
    "x_with_nan = [8.0, 1, 2.5, math.nan, 4, 28.0]\n",
    "x"
   ]
  },
  {
   "cell_type": "code",
   "execution_count": 3,
   "id": "b6c03adb",
   "metadata": {},
   "outputs": [
    {
     "data": {
      "text/plain": [
       "[8.0, 1, 2.5, nan, 4, 28.0]"
      ]
     },
     "execution_count": 3,
     "metadata": {},
     "output_type": "execute_result"
    }
   ],
   "source": [
    "x_with_nan"
   ]
  },
  {
   "cell_type": "code",
   "execution_count": 4,
   "id": "1251467a",
   "metadata": {},
   "outputs": [
    {
     "data": {
      "text/plain": [
       "(True, True)"
      ]
     },
     "execution_count": 4,
     "metadata": {},
     "output_type": "execute_result"
    }
   ],
   "source": [
    "math.isnan(np.nan), np.isnan(math.nan)"
   ]
  },
  {
   "cell_type": "code",
   "execution_count": 6,
   "id": "d7a57a32",
   "metadata": {},
   "outputs": [
    {
     "data": {
      "text/plain": [
       "(True, True)"
      ]
     },
     "execution_count": 6,
     "metadata": {},
     "output_type": "execute_result"
    }
   ],
   "source": [
    "math.isnan(x_with_nan[3]), np.isnan(x_with_nan[3])"
   ]
  },
  {
   "cell_type": "code",
   "execution_count": 7,
   "id": "e595fc90",
   "metadata": {},
   "outputs": [],
   "source": [
    "y, y_with_nan = np.array(x), np.array(x_with_nan)"
   ]
  },
  {
   "cell_type": "code",
   "execution_count": 8,
   "id": "14d259cb",
   "metadata": {},
   "outputs": [],
   "source": [
    "z, z_with_nan = pd.Series(x), pd.Series(x_with_nan)"
   ]
  },
  {
   "cell_type": "code",
   "execution_count": 9,
   "id": "d501b4c2",
   "metadata": {},
   "outputs": [
    {
     "data": {
      "text/plain": [
       "array([ 8. ,  1. ,  2.5,  4. , 28. ])"
      ]
     },
     "execution_count": 9,
     "metadata": {},
     "output_type": "execute_result"
    }
   ],
   "source": [
    "y"
   ]
  },
  {
   "cell_type": "code",
   "execution_count": 10,
   "id": "5d5d5d56",
   "metadata": {},
   "outputs": [
    {
     "data": {
      "text/plain": [
       "0     8.0\n",
       "1     1.0\n",
       "2     2.5\n",
       "3     4.0\n",
       "4    28.0\n",
       "dtype: float64"
      ]
     },
     "execution_count": 10,
     "metadata": {},
     "output_type": "execute_result"
    }
   ],
   "source": [
    "z"
   ]
  },
  {
   "cell_type": "code",
   "execution_count": 11,
   "id": "24eb1d5a",
   "metadata": {},
   "outputs": [],
   "source": [
    "mean_ = sum(x) / len(x)"
   ]
  },
  {
   "cell_type": "code",
   "execution_count": 12,
   "id": "fe6001b6",
   "metadata": {},
   "outputs": [
    {
     "data": {
      "text/plain": [
       "8.7"
      ]
     },
     "execution_count": 12,
     "metadata": {},
     "output_type": "execute_result"
    }
   ],
   "source": [
    "mean_"
   ]
  },
  {
   "cell_type": "code",
   "execution_count": 13,
   "id": "b1e7e378",
   "metadata": {},
   "outputs": [],
   "source": [
    "mean_ = statistics.mean(x)"
   ]
  },
  {
   "cell_type": "code",
   "execution_count": 14,
   "id": "f39a7d42",
   "metadata": {},
   "outputs": [
    {
     "data": {
      "text/plain": [
       "8.7"
      ]
     },
     "execution_count": 14,
     "metadata": {},
     "output_type": "execute_result"
    }
   ],
   "source": [
    "mean_"
   ]
  },
  {
   "cell_type": "code",
   "execution_count": 15,
   "id": "b862c301",
   "metadata": {},
   "outputs": [],
   "source": [
    "mean_ = statistics.fmean(x)"
   ]
  },
  {
   "cell_type": "code",
   "execution_count": 16,
   "id": "a0ed3009",
   "metadata": {},
   "outputs": [
    {
     "data": {
      "text/plain": [
       "8.7"
      ]
     },
     "execution_count": 16,
     "metadata": {},
     "output_type": "execute_result"
    }
   ],
   "source": [
    "mean_"
   ]
  },
  {
   "cell_type": "code",
   "execution_count": 17,
   "id": "3371c43c",
   "metadata": {},
   "outputs": [
    {
     "data": {
      "text/plain": [
       "nan"
      ]
     },
     "execution_count": 17,
     "metadata": {},
     "output_type": "execute_result"
    }
   ],
   "source": [
    "mean_ = statistics.mean(x_with_nan)\n",
    "mean_"
   ]
  },
  {
   "cell_type": "code",
   "execution_count": 18,
   "id": "bb53dbfa",
   "metadata": {},
   "outputs": [],
   "source": [
    "mean_ = y.mean()"
   ]
  },
  {
   "cell_type": "code",
   "execution_count": 19,
   "id": "de8f75ee",
   "metadata": {},
   "outputs": [
    {
     "data": {
      "text/plain": [
       "8.7"
      ]
     },
     "execution_count": 19,
     "metadata": {},
     "output_type": "execute_result"
    }
   ],
   "source": [
    "mean_"
   ]
  },
  {
   "cell_type": "code",
   "execution_count": 20,
   "id": "990fbb04",
   "metadata": {},
   "outputs": [
    {
     "data": {
      "text/plain": [
       "8.7"
      ]
     },
     "execution_count": 20,
     "metadata": {},
     "output_type": "execute_result"
    }
   ],
   "source": [
    "np.nanmean(y_with_nan)"
   ]
  },
  {
   "cell_type": "code",
   "execution_count": 21,
   "id": "bf322a02",
   "metadata": {},
   "outputs": [
    {
     "data": {
      "text/plain": [
       "8.7"
      ]
     },
     "execution_count": 21,
     "metadata": {},
     "output_type": "execute_result"
    }
   ],
   "source": [
    "z_with_nan.mean()"
   ]
  },
  {
   "cell_type": "code",
   "execution_count": 22,
   "id": "23243f10",
   "metadata": {},
   "outputs": [
    {
     "data": {
      "text/plain": [
       "6.95"
      ]
     },
     "execution_count": 22,
     "metadata": {},
     "output_type": "execute_result"
    }
   ],
   "source": [
    "x = [8.0, 1, 2.5, 4, 28.0]\n",
    "w = [0.1, 0.2, 0.3, 0.25, 0.15]\n",
    "wmean = sum(w[i] * x[i] for i in range(len(x))) / sum(w)\n",
    "wmean"
   ]
  },
  {
   "cell_type": "code",
   "execution_count": 23,
   "id": "f5d0fcf3",
   "metadata": {},
   "outputs": [],
   "source": [
    "y, z, w = np.array(x), pd.Series(x), np.array(w)\n",
    "wmean = np.average(y, weights=w)"
   ]
  },
  {
   "cell_type": "code",
   "execution_count": 24,
   "id": "b62587aa",
   "metadata": {},
   "outputs": [
    {
     "data": {
      "text/plain": [
       "6.95"
      ]
     },
     "execution_count": 24,
     "metadata": {},
     "output_type": "execute_result"
    }
   ],
   "source": [
    "wmean"
   ]
  },
  {
   "cell_type": "code",
   "execution_count": 25,
   "id": "6dd8bd7c",
   "metadata": {},
   "outputs": [],
   "source": [
    "hmean = len(x) / sum(1 / item for item in x)"
   ]
  },
  {
   "cell_type": "code",
   "execution_count": 26,
   "id": "6d2e5849",
   "metadata": {},
   "outputs": [
    {
     "data": {
      "text/plain": [
       "2.7613412228796843"
      ]
     },
     "execution_count": 26,
     "metadata": {},
     "output_type": "execute_result"
    }
   ],
   "source": [
    "hmean"
   ]
  },
  {
   "cell_type": "code",
   "execution_count": 27,
   "id": "99cd6edc",
   "metadata": {},
   "outputs": [],
   "source": [
    "hmean = statistics.harmonic_mean(x)"
   ]
  },
  {
   "cell_type": "code",
   "execution_count": 28,
   "id": "e2fb067e",
   "metadata": {},
   "outputs": [
    {
     "data": {
      "text/plain": [
       "2.7613412228796843"
      ]
     },
     "execution_count": 28,
     "metadata": {},
     "output_type": "execute_result"
    }
   ],
   "source": [
    "hmean"
   ]
  },
  {
   "cell_type": "code",
   "execution_count": 29,
   "id": "1987971b",
   "metadata": {},
   "outputs": [
    {
     "data": {
      "text/plain": [
       "0"
      ]
     },
     "execution_count": 29,
     "metadata": {},
     "output_type": "execute_result"
    }
   ],
   "source": [
    "statistics.harmonic_mean([1, 0, 2])"
   ]
  },
  {
   "cell_type": "code",
   "execution_count": 31,
   "id": "fcc9287c",
   "metadata": {},
   "outputs": [
    {
     "data": {
      "text/plain": [
       "1.5"
      ]
     },
     "execution_count": 31,
     "metadata": {},
     "output_type": "execute_result"
    }
   ],
   "source": [
    "statistics.harmonic_mean([1, 2, 2])"
   ]
  },
  {
   "cell_type": "code",
   "execution_count": 32,
   "id": "d76ed30f",
   "metadata": {},
   "outputs": [
    {
     "data": {
      "text/plain": [
       "2.7613412228796843"
      ]
     },
     "execution_count": 32,
     "metadata": {},
     "output_type": "execute_result"
    }
   ],
   "source": [
    "scipy.stats.hmean(y)\n"
   ]
  },
  {
   "cell_type": "code",
   "execution_count": 33,
   "id": "cea21dc9",
   "metadata": {},
   "outputs": [],
   "source": [
    "median_ = statistics.median(x)"
   ]
  },
  {
   "cell_type": "code",
   "execution_count": 35,
   "id": "730883af",
   "metadata": {},
   "outputs": [
    {
     "data": {
      "text/plain": [
       "2.5"
      ]
     },
     "execution_count": 35,
     "metadata": {},
     "output_type": "execute_result"
    }
   ],
   "source": [
    "statistics.median_low(x[:-1])"
   ]
  },
  {
   "cell_type": "code",
   "execution_count": 36,
   "id": "f165a6d3",
   "metadata": {},
   "outputs": [
    {
     "data": {
      "text/plain": [
       "4"
      ]
     },
     "execution_count": 36,
     "metadata": {},
     "output_type": "execute_result"
    }
   ],
   "source": [
    "statistics.median_high(x[:-1])"
   ]
  },
  {
   "cell_type": "code",
   "execution_count": 37,
   "id": "0a3ce7cc",
   "metadata": {},
   "outputs": [
    {
     "data": {
      "text/plain": [
       "4.0"
      ]
     },
     "execution_count": 37,
     "metadata": {},
     "output_type": "execute_result"
    }
   ],
   "source": [
    "np.nanmedian(y_with_nan)"
   ]
  },
  {
   "cell_type": "code",
   "execution_count": 39,
   "id": "d8865f55",
   "metadata": {},
   "outputs": [
    {
     "data": {
      "text/plain": [
       "2"
      ]
     },
     "execution_count": 39,
     "metadata": {},
     "output_type": "execute_result"
    }
   ],
   "source": [
    "u = [2, 3, 2, 8, 12]\n",
    "mode_ = max((u.count(item), item) for item in set(u))[1]\n",
    "mode_"
   ]
  },
  {
   "cell_type": "code",
   "execution_count": 40,
   "id": "5ade56b3",
   "metadata": {},
   "outputs": [],
   "source": [
    "mode_ = statistics.mode(u)"
   ]
  },
  {
   "cell_type": "code",
   "execution_count": 41,
   "id": "848f260b",
   "metadata": {},
   "outputs": [
    {
     "data": {
      "text/plain": [
       "2"
      ]
     },
     "execution_count": 41,
     "metadata": {},
     "output_type": "execute_result"
    }
   ],
   "source": [
    "mode_"
   ]
  },
  {
   "cell_type": "code",
   "execution_count": 42,
   "id": "06d30a41",
   "metadata": {},
   "outputs": [],
   "source": [
    "mode_ = statistics.multimode(u)"
   ]
  },
  {
   "cell_type": "code",
   "execution_count": 43,
   "id": "d9bae203",
   "metadata": {},
   "outputs": [
    {
     "data": {
      "text/plain": [
       "[2]"
      ]
     },
     "execution_count": 43,
     "metadata": {},
     "output_type": "execute_result"
    }
   ],
   "source": [
    "mode_"
   ]
  },
  {
   "cell_type": "code",
   "execution_count": 44,
   "id": "e670787e",
   "metadata": {},
   "outputs": [
    {
     "data": {
      "text/plain": [
       "123.19999999999999"
      ]
     },
     "execution_count": 44,
     "metadata": {},
     "output_type": "execute_result"
    }
   ],
   "source": [
    "n = len(x)\n",
    "mean_ = sum(x) / n\n",
    "var_ = sum((item - mean_)**2 for item in x) / (n - 1)\n",
    "var_"
   ]
  },
  {
   "cell_type": "code",
   "execution_count": 45,
   "id": "2671ed42",
   "metadata": {},
   "outputs": [],
   "source": [
    "var_ = statistics.variance(x)"
   ]
  },
  {
   "cell_type": "code",
   "execution_count": 46,
   "id": "e2ff0b22",
   "metadata": {},
   "outputs": [
    {
     "data": {
      "text/plain": [
       "123.2"
      ]
     },
     "execution_count": 46,
     "metadata": {},
     "output_type": "execute_result"
    }
   ],
   "source": [
    "var_"
   ]
  },
  {
   "cell_type": "code",
   "execution_count": 47,
   "id": "8d85740d",
   "metadata": {},
   "outputs": [],
   "source": [
    "var_ = np.var(y, ddof=1)"
   ]
  },
  {
   "cell_type": "code",
   "execution_count": 48,
   "id": "530e5f65",
   "metadata": {},
   "outputs": [
    {
     "data": {
      "text/plain": [
       "123.19999999999999"
      ]
     },
     "execution_count": 48,
     "metadata": {},
     "output_type": "execute_result"
    }
   ],
   "source": [
    "var_"
   ]
  },
  {
   "cell_type": "code",
   "execution_count": 49,
   "id": "cf999302",
   "metadata": {},
   "outputs": [],
   "source": [
    "std_ = var_ ** 0.5"
   ]
  },
  {
   "cell_type": "code",
   "execution_count": 50,
   "id": "186a4a4b",
   "metadata": {},
   "outputs": [
    {
     "data": {
      "text/plain": [
       "11.099549540409285"
      ]
     },
     "execution_count": 50,
     "metadata": {},
     "output_type": "execute_result"
    }
   ],
   "source": [
    "std_"
   ]
  },
  {
   "cell_type": "code",
   "execution_count": 51,
   "id": "73b31553",
   "metadata": {},
   "outputs": [],
   "source": [
    "std_ = statistics.stdev(x)"
   ]
  },
  {
   "cell_type": "code",
   "execution_count": 52,
   "id": "3fbcc68d",
   "metadata": {},
   "outputs": [
    {
     "data": {
      "text/plain": [
       "11.099549540409287"
      ]
     },
     "execution_count": 52,
     "metadata": {},
     "output_type": "execute_result"
    }
   ],
   "source": [
    "std_"
   ]
  },
  {
   "cell_type": "code",
   "execution_count": 53,
   "id": "cf54f648",
   "metadata": {},
   "outputs": [
    {
     "data": {
      "text/plain": [
       "11.099549540409285"
      ]
     },
     "execution_count": 53,
     "metadata": {},
     "output_type": "execute_result"
    }
   ],
   "source": [
    "np.std(y, ddof=1)"
   ]
  },
  {
   "cell_type": "code",
   "execution_count": 54,
   "id": "c1571de3",
   "metadata": {},
   "outputs": [
    {
     "data": {
      "text/plain": [
       "11.099549540409285"
      ]
     },
     "execution_count": 54,
     "metadata": {},
     "output_type": "execute_result"
    }
   ],
   "source": [
    "y.std(ddof=1)"
   ]
  },
  {
   "cell_type": "code",
   "execution_count": 55,
   "id": "94ce10d2",
   "metadata": {},
   "outputs": [
    {
     "data": {
      "text/plain": [
       "nan"
      ]
     },
     "execution_count": 55,
     "metadata": {},
     "output_type": "execute_result"
    }
   ],
   "source": [
    "np.std(y_with_nan, ddof=1)"
   ]
  },
  {
   "cell_type": "code",
   "execution_count": 56,
   "id": "0b44e82c",
   "metadata": {},
   "outputs": [
    {
     "data": {
      "text/plain": [
       "nan"
      ]
     },
     "execution_count": 56,
     "metadata": {},
     "output_type": "execute_result"
    }
   ],
   "source": [
    "y_with_nan.std(ddof=1)"
   ]
  },
  {
   "cell_type": "code",
   "execution_count": 57,
   "id": "b8ff3053",
   "metadata": {},
   "outputs": [
    {
     "data": {
      "text/plain": [
       "11.099549540409285"
      ]
     },
     "execution_count": 57,
     "metadata": {},
     "output_type": "execute_result"
    }
   ],
   "source": [
    "np.nanstd(y_with_nan, ddof=1)"
   ]
  },
  {
   "cell_type": "code",
   "execution_count": 58,
   "id": "438b0d0d",
   "metadata": {},
   "outputs": [
    {
     "data": {
      "text/plain": [
       "11.099549540409285"
      ]
     },
     "execution_count": 58,
     "metadata": {},
     "output_type": "execute_result"
    }
   ],
   "source": [
    "z.std(ddof=1)"
   ]
  },
  {
   "cell_type": "code",
   "execution_count": 59,
   "id": "d3a64a7b",
   "metadata": {},
   "outputs": [
    {
     "data": {
      "text/plain": [
       "11.099549540409285"
      ]
     },
     "execution_count": 59,
     "metadata": {},
     "output_type": "execute_result"
    }
   ],
   "source": [
    "z_with_nan.std(ddof=1)"
   ]
  },
  {
   "cell_type": "code",
   "execution_count": 60,
   "id": "00b8768f",
   "metadata": {},
   "outputs": [
    {
     "data": {
      "text/plain": [
       "1.9470432273905929"
      ]
     },
     "execution_count": 60,
     "metadata": {},
     "output_type": "execute_result"
    }
   ],
   "source": [
    "x = [8.0, 1, 2.5, 4, 28.0]\n",
    "n = len(x)\n",
    "mean_ = sum(x) / n\n",
    "var_ = sum((item - mean_)**2 for item in x) / (n - 1)\n",
    "std_ = var_ ** 0.5\n",
    "skew_ = (sum((item - mean_)**3 for item in x) * n / ((n - 1) * (n - 2) * std_**3))\n",
    "skew_"
   ]
  },
  {
   "cell_type": "code",
   "execution_count": 61,
   "id": "7160c518",
   "metadata": {},
   "outputs": [
    {
     "data": {
      "text/plain": [
       "1.9470432273905927"
      ]
     },
     "execution_count": 61,
     "metadata": {},
     "output_type": "execute_result"
    }
   ],
   "source": [
    "y, y_with_nan = np.array(x), np.array(x_with_nan)\n",
    "scipy.stats.skew(y, bias=False)"
   ]
  },
  {
   "cell_type": "code",
   "execution_count": 62,
   "id": "a9d0fec0",
   "metadata": {},
   "outputs": [
    {
     "data": {
      "text/plain": [
       "nan"
      ]
     },
     "execution_count": 62,
     "metadata": {},
     "output_type": "execute_result"
    }
   ],
   "source": [
    "scipy.stats.skew(y_with_nan, bias=False)"
   ]
  },
  {
   "cell_type": "code",
   "execution_count": 63,
   "id": "b5a2ba62",
   "metadata": {},
   "outputs": [],
   "source": [
    "z, z_with_nan = pd.Series(x), pd.Series(x_with_nan)"
   ]
  },
  {
   "cell_type": "code",
   "execution_count": 64,
   "id": "87977b09",
   "metadata": {},
   "outputs": [
    {
     "data": {
      "text/plain": [
       "1.9470432273905924"
      ]
     },
     "execution_count": 64,
     "metadata": {},
     "output_type": "execute_result"
    }
   ],
   "source": [
    "z.skew()"
   ]
  },
  {
   "cell_type": "code",
   "execution_count": 65,
   "id": "48eae8e1",
   "metadata": {},
   "outputs": [
    {
     "data": {
      "text/plain": [
       "1.9470432273905924"
      ]
     },
     "execution_count": 65,
     "metadata": {},
     "output_type": "execute_result"
    }
   ],
   "source": [
    "z_with_nan.skew()"
   ]
  },
  {
   "cell_type": "code",
   "execution_count": 68,
   "id": "8f183139",
   "metadata": {},
   "outputs": [
    {
     "data": {
      "text/plain": [
       "[0.1, 8.0, 21.0]"
      ]
     },
     "execution_count": 68,
     "metadata": {},
     "output_type": "execute_result"
    }
   ],
   "source": [
    "x = [-5.0, -1.1, 0.1, 2.0, 8.0, 12.8, 21.0, 25.8, 41.0]\n",
    "statistics.quantiles(x, n=2)\n",
    "statistics.quantiles(x, n=4, method='inclusive')"
   ]
  },
  {
   "cell_type": "code",
   "execution_count": 69,
   "id": "c1219fdc",
   "metadata": {},
   "outputs": [
    {
     "data": {
      "text/plain": [
       "34.919999999999995"
      ]
     },
     "execution_count": 69,
     "metadata": {},
     "output_type": "execute_result"
    }
   ],
   "source": [
    "y = np.array(x)\n",
    "np.percentile(y, 5)\n",
    "np.percentile(y, 95)"
   ]
  },
  {
   "cell_type": "code",
   "execution_count": 71,
   "id": "2aa49564",
   "metadata": {},
   "outputs": [
    {
     "data": {
      "text/plain": [
       "8.0"
      ]
     },
     "execution_count": 71,
     "metadata": {},
     "output_type": "execute_result"
    }
   ],
   "source": [
    "np.percentile(y, [25, 50, 75])\n",
    "np.median(y)"
   ]
  },
  {
   "cell_type": "code",
   "execution_count": 72,
   "id": "b7cb42d9",
   "metadata": {},
   "outputs": [
    {
     "data": {
      "text/plain": [
       "array([-5. , -1.1,  nan,  0.1,  2. ,  8. , 12.8, 21. , 25.8, 41. ])"
      ]
     },
     "execution_count": 72,
     "metadata": {},
     "output_type": "execute_result"
    }
   ],
   "source": [
    "y_with_nan = np.insert(y, 2, np.nan)\n",
    "y_with_nan\n"
   ]
  },
  {
   "cell_type": "code",
   "execution_count": 73,
   "id": "81c0dc88",
   "metadata": {},
   "outputs": [
    {
     "data": {
      "text/plain": [
       "array([ 0.1,  8. , 21. ])"
      ]
     },
     "execution_count": 73,
     "metadata": {},
     "output_type": "execute_result"
    }
   ],
   "source": [
    "np.nanpercentile(y_with_nan, [25, 50, 75])"
   ]
  },
  {
   "cell_type": "code",
   "execution_count": 74,
   "id": "3110d4dc",
   "metadata": {},
   "outputs": [
    {
     "data": {
      "text/plain": [
       "-3.44"
      ]
     },
     "execution_count": 74,
     "metadata": {},
     "output_type": "execute_result"
    }
   ],
   "source": [
    "np.quantile(y, 0.05)\n"
   ]
  },
  {
   "cell_type": "code",
   "execution_count": 75,
   "id": "749563b3",
   "metadata": {},
   "outputs": [
    {
     "data": {
      "text/plain": [
       "34.919999999999995"
      ]
     },
     "execution_count": 75,
     "metadata": {},
     "output_type": "execute_result"
    }
   ],
   "source": [
    "np.quantile(y, 0.95)"
   ]
  },
  {
   "cell_type": "code",
   "execution_count": 76,
   "id": "584fbc23",
   "metadata": {},
   "outputs": [
    {
     "data": {
      "text/plain": [
       "array([ 0.1,  8. , 21. ])"
      ]
     },
     "execution_count": 76,
     "metadata": {},
     "output_type": "execute_result"
    }
   ],
   "source": [
    "np.quantile(y, [0.25, 0.5, 0.75])"
   ]
  },
  {
   "cell_type": "code",
   "execution_count": 77,
   "id": "30d450fe",
   "metadata": {},
   "outputs": [
    {
     "data": {
      "text/plain": [
       "array([ 0.1,  8. , 21. ])"
      ]
     },
     "execution_count": 77,
     "metadata": {},
     "output_type": "execute_result"
    }
   ],
   "source": [
    "np.nanquantile(y_with_nan, [0.25, 0.5, 0.75])"
   ]
  },
  {
   "cell_type": "code",
   "execution_count": 78,
   "id": "f5772b68",
   "metadata": {},
   "outputs": [],
   "source": [
    "z, z_with_nan = pd.Series(y), pd.Series(y_with_nan)"
   ]
  },
  {
   "cell_type": "code",
   "execution_count": 79,
   "id": "2685ddf1",
   "metadata": {},
   "outputs": [
    {
     "data": {
      "text/plain": [
       "-3.44"
      ]
     },
     "execution_count": 79,
     "metadata": {},
     "output_type": "execute_result"
    }
   ],
   "source": [
    "z.quantile(0.05)"
   ]
  },
  {
   "cell_type": "code",
   "execution_count": 80,
   "id": "1ec6f9df",
   "metadata": {},
   "outputs": [
    {
     "data": {
      "text/plain": [
       "34.919999999999995"
      ]
     },
     "execution_count": 80,
     "metadata": {},
     "output_type": "execute_result"
    }
   ],
   "source": [
    "z.quantile(0.95)"
   ]
  },
  {
   "cell_type": "code",
   "execution_count": 81,
   "id": "f853f2b6",
   "metadata": {
    "scrolled": true
   },
   "outputs": [
    {
     "data": {
      "text/plain": [
       "0.25     0.1\n",
       "0.50     8.0\n",
       "0.75    21.0\n",
       "dtype: float64"
      ]
     },
     "execution_count": 81,
     "metadata": {},
     "output_type": "execute_result"
    }
   ],
   "source": [
    "z_with_nan.quantile([0.25, 0.5, 0.75])"
   ]
  },
  {
   "cell_type": "code",
   "execution_count": 82,
   "id": "17ff2ec2",
   "metadata": {},
   "outputs": [
    {
     "data": {
      "text/plain": [
       "46.0"
      ]
     },
     "execution_count": 82,
     "metadata": {},
     "output_type": "execute_result"
    }
   ],
   "source": [
    "np.ptp(y)"
   ]
  },
  {
   "cell_type": "code",
   "execution_count": 83,
   "id": "e96475b3",
   "metadata": {},
   "outputs": [
    {
     "data": {
      "text/plain": [
       "46.0"
      ]
     },
     "execution_count": 83,
     "metadata": {},
     "output_type": "execute_result"
    }
   ],
   "source": [
    "np.amax(y) - np.amin(y)"
   ]
  },
  {
   "cell_type": "code",
   "execution_count": 84,
   "id": "3c24f146",
   "metadata": {},
   "outputs": [],
   "source": [
    "quartiles = np.quantile(y, [0.25, 0.75])"
   ]
  },
  {
   "cell_type": "code",
   "execution_count": 85,
   "id": "0f13b3ef",
   "metadata": {},
   "outputs": [
    {
     "data": {
      "text/plain": [
       "20.9"
      ]
     },
     "execution_count": 85,
     "metadata": {},
     "output_type": "execute_result"
    }
   ],
   "source": [
    "quartiles[1] - quartiles[0]"
   ]
  },
  {
   "cell_type": "code",
   "execution_count": 86,
   "id": "4cfcd0fe",
   "metadata": {},
   "outputs": [],
   "source": [
    "quartiles = z.quantile([0.25, 0.75])"
   ]
  },
  {
   "cell_type": "code",
   "execution_count": 87,
   "id": "0c49cd11",
   "metadata": {},
   "outputs": [
    {
     "data": {
      "text/plain": [
       "20.9"
      ]
     },
     "execution_count": 87,
     "metadata": {},
     "output_type": "execute_result"
    }
   ],
   "source": [
    "quartiles[0.75] - quartiles[0.25]"
   ]
  },
  {
   "cell_type": "code",
   "execution_count": 88,
   "id": "730da647",
   "metadata": {},
   "outputs": [],
   "source": [
    "result = scipy.stats.describe(y, ddof=1, bias=False)"
   ]
  },
  {
   "cell_type": "code",
   "execution_count": 89,
   "id": "1ad3afdc",
   "metadata": {},
   "outputs": [
    {
     "data": {
      "text/plain": [
       "DescribeResult(nobs=9, minmax=(-5.0, 41.0), mean=11.622222222222222, variance=228.75194444444446, skewness=0.9249043136685094, kurtosis=0.14770623629658886)"
      ]
     },
     "execution_count": 89,
     "metadata": {},
     "output_type": "execute_result"
    }
   ],
   "source": [
    "result"
   ]
  },
  {
   "cell_type": "code",
   "execution_count": null,
   "id": "390d877e",
   "metadata": {},
   "outputs": [],
   "source": []
  }
 ],
 "metadata": {
  "kernelspec": {
   "display_name": "Python 3",
   "language": "python",
   "name": "python3"
  },
  "language_info": {
   "codemirror_mode": {
    "name": "ipython",
    "version": 3
   },
   "file_extension": ".py",
   "mimetype": "text/x-python",
   "name": "python",
   "nbconvert_exporter": "python",
   "pygments_lexer": "ipython3",
   "version": "3.8.8"
  }
 },
 "nbformat": 4,
 "nbformat_minor": 5
}
