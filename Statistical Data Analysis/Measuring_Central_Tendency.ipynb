{
 "cells": [
  {
   "cell_type": "code",
   "execution_count": 1,
   "id": "880a5063",
   "metadata": {},
   "outputs": [],
   "source": [
    "#Calculating Mean and Median"
   ]
  },
  {
   "cell_type": "code",
   "execution_count": 2,
   "id": "e23e0ac6",
   "metadata": {},
   "outputs": [
    {
     "name": "stdout",
     "output_type": "stream",
     "text": [
      "Mean Values in the Distribution\n",
      "Age       31.833333\n",
      "Rating     3.743333\n",
      "dtype: float64\n",
      "*******************************\n",
      "Median Values in the Distribution\n",
      "Age       29.50\n",
      "Rating     3.79\n",
      "dtype: float64\n"
     ]
    }
   ],
   "source": [
    "import pandas as pd\n",
    "\n",
    "#Create a Dictionary of series\n",
    "d = {'Name':pd.Series(['Tom','James','Ricky','Vin','Steve','Smith','Jack',\n",
    "   'Lee','Chanchal','Gasper','Naviya','Andres']),\n",
    "   'Age':pd.Series([25,26,25,23,30,29,23,34,40,30,51,46]),\n",
    "   'Rating':pd.Series([4.23,3.24,3.98,2.56,3.20,4.6,3.8,3.78,2.98,4.80,4.10,3.65])}\n",
    "\n",
    "#Create a DataFrame\n",
    "df = pd.DataFrame(d)\n",
    "print(\"Mean Values in the Distribution\")\n",
    "print(df.mean())\n",
    "print(\"*******************************\")\n",
    "print(\"Median Values in the Distribution\")\n",
    "print(df.median())"
   ]
  },
  {
   "cell_type": "code",
   "execution_count": 4,
   "id": "a6bd0925",
   "metadata": {},
   "outputs": [],
   "source": [
    "#Measuring mode"
   ]
  },
  {
   "cell_type": "code",
   "execution_count": 3,
   "id": "bd6cdf52",
   "metadata": {},
   "outputs": [
    {
     "name": "stdout",
     "output_type": "stream",
     "text": [
      "        Name   Age\n",
      "0     Andres  25.0\n",
      "1   Chanchal   NaN\n",
      "2     Gasper   NaN\n",
      "3       Jack   NaN\n",
      "4      James   NaN\n",
      "5        Lee   NaN\n",
      "6     Naviya   NaN\n",
      "7      Ricky   NaN\n",
      "8      Smith   NaN\n",
      "9      Steve   NaN\n",
      "10       Tom   NaN\n",
      "11       Vin   NaN\n"
     ]
    }
   ],
   "source": [
    "import pandas as pd\n",
    "\n",
    "#Create a Dictionary of series\n",
    "d = {'Name':pd.Series(['Tom','James','Ricky','Vin','Steve','Smith','Jack',\n",
    "   'Lee','Chanchal','Gasper','Naviya','Andres']),\n",
    "   'Age':pd.Series([25,26,25,23,30,25,23,34,40,30,25,46])}\n",
    "#Create a DataFrame\n",
    "df = pd.DataFrame(d)\n",
    "\n",
    "print(df.mode())"
   ]
  },
  {
   "cell_type": "code",
   "execution_count": 5,
   "id": "74402bb4",
   "metadata": {},
   "outputs": [],
   "source": [
    "#Measuring Standard Deviation"
   ]
  },
  {
   "cell_type": "code",
   "execution_count": 6,
   "id": "9779e3d2",
   "metadata": {},
   "outputs": [
    {
     "name": "stdout",
     "output_type": "stream",
     "text": [
      "Age       7.265527\n",
      "Rating    0.661628\n",
      "dtype: float64\n"
     ]
    }
   ],
   "source": [
    "import pandas as pd\n",
    "\n",
    "#Create a Dictionary of series\n",
    "d = {'Name':pd.Series(['Tom','James','Ricky','Vin','Steve','Smith','Jack',\n",
    "   'Lee','Chanchal','Gasper','Naviya','Andres']),\n",
    "   'Age':pd.Series([25,26,25,23,30,25,23,34,40,30,25,46]),\n",
    "   'Rating':pd.Series([4.23,3.24,3.98,2.56,3.20,4.6,3.8,3.78,2.98,4.80,4.10,3.65])}\n",
    "\n",
    "#Create a DataFrame\n",
    "df = pd.DataFrame(d)\n",
    "\n",
    "# Calculate the standard deviation\n",
    "print(df.std())"
   ]
  },
  {
   "cell_type": "code",
   "execution_count": 9,
   "id": "140fc186",
   "metadata": {},
   "outputs": [],
   "source": [
    "#Measuring Skewness"
   ]
  },
  {
   "cell_type": "code",
   "execution_count": 8,
   "id": "2721a785",
   "metadata": {},
   "outputs": [
    {
     "name": "stdout",
     "output_type": "stream",
     "text": [
      "Age       1.443490\n",
      "Rating   -0.153629\n",
      "dtype: float64\n"
     ]
    }
   ],
   "source": [
    "import pandas as pd\n",
    "\n",
    "#Create a Dictionary of series\n",
    "d = {'Name':pd.Series(['Tom','James','Ricky','Vin','Steve','Smith','Jack',\n",
    "   'Lee','Chanchal','Gasper','Naviya','Andres']),\n",
    "   'Age':pd.Series([25,26,25,23,30,25,23,34,40,30,25,46]),\n",
    "   'Rating':pd.Series([4.23,3.24,3.98,2.56,3.20,4.6,3.8,3.78,2.98,4.80,4.10,3.65])}\n",
    "\n",
    "#Create a DataFrame\n",
    "df = pd.DataFrame(d)\n",
    "print(df.skew())"
   ]
  },
  {
   "cell_type": "code",
   "execution_count": 11,
   "id": "7cb6c470",
   "metadata": {},
   "outputs": [],
   "source": [
    "#Python - Normal Distribution"
   ]
  },
  {
   "cell_type": "code",
   "execution_count": 15,
   "id": "5a0af195",
   "metadata": {},
   "outputs": [
    {
     "data": {
      "image/png": "[encoded data removed]",
      "text/plain": [
       "<Figure size 432x288 with 1 Axes>"
      ]
     },
     "metadata": {
      "needs_background": "light"
     },
     "output_type": "display_data"
    }
   ],
   "source": [
    "import matplotlib.pyplot as plt\n",
    "import numpy as np\n",
    "\n",
    "mu, sigma = 0.5, 0.1\n",
    "s = np.random.normal(mu, sigma, 1000)\n",
    "\n",
    "# Create the bins and histogram\n",
    "count, bins, ignored = plt.hist(s, 20)\n",
    "\n",
    "# Plot the distribution curve\n",
    "plt.plot(bins, 1/(sigma * np.sqrt(2 * np.pi)) * np.exp( - (bins - mu)**2 / (2 * sigma**2) ),linewidth=3, color='y')\n",
    "plt.show()"
   ]
  },
  {
   "cell_type": "code",
   "execution_count": 16,
   "id": "af5f8aec",
   "metadata": {},
   "outputs": [],
   "source": [
    "#Python - Binomial Distribution"
   ]
  },
  {
   "cell_type": "code",
   "execution_count": 17,
   "id": "57fdacd7",
   "metadata": {},
   "outputs": [
    {
     "name": "stderr",
     "output_type": "stream",
     "text": [
      "C:\\Users\\HP\\anaconda3\\lib\\site-packages\\seaborn\\distributions.py:2557: FutureWarning: `distplot` is a deprecated function and will be removed in a future version. Please adapt your code to use either `displot` (a figure-level function with similar flexibility) or `histplot` (an axes-level function for histograms).\n",
      "  warnings.warn(msg, FutureWarning)\n"
     ]
    },
    {
     "data": {
      "text/plain": [
       "[Text(0.5, 0, 'Binomial'), Text(0, 0.5, 'Frequency')]"
      ]
     },
     "execution_count": 17,
     "metadata": {},
     "output_type": "execute_result"
    },
    {
     "data": {
      "image/png": "[encoded data removed]",
      "text/plain": [
       "<Figure size 432x288 with 1 Axes>"
      ]
     },
     "metadata": {
      "needs_background": "light"
     },
     "output_type": "display_data"
    }
   ],
   "source": [
    "from scipy.stats import binom\n",
    "import seaborn as sb\n",
    "\n",
    "binom.rvs(size=10,n=20,p=0.8)\n",
    "\n",
    "data_binom = binom.rvs(n=20,p=0.8,loc=0,size=1000)\n",
    "ax = sb.distplot(data_binom,\n",
    "                  kde=True,\n",
    "                  color='blue',\n",
    "                  hist_kws={\"linewidth\": 25,'alpha':1})\n",
    "ax.set(xlabel='Binomial', ylabel='Frequency')\n"
   ]
  },
  {
   "cell_type": "code",
   "execution_count": 18,
   "id": "988cbc1b",
   "metadata": {},
   "outputs": [
    {
     "name": "stderr",
     "output_type": "stream",
     "text": [
      "C:\\Users\\HP\\anaconda3\\lib\\site-packages\\seaborn\\distributions.py:2557: FutureWarning: `distplot` is a deprecated function and will be removed in a future version. Please adapt your code to use either `displot` (a figure-level function with similar flexibility) or `histplot` (an axes-level function for histograms).\n",
      "  warnings.warn(msg, FutureWarning)\n"
     ]
    },
    {
     "data": {
      "text/plain": [
       "[Text(0.5, 0, 'Poisson'), Text(0, 0.5, 'Frequency')]"
      ]
     },
     "execution_count": 18,
     "metadata": {},
     "output_type": "execute_result"
    },
    {
     "data": {
      "image/png": "[encoded data removed]",
      "text/plain": [
       "<Figure size 432x288 with 1 Axes>"
      ]
     },
     "metadata": {
      "needs_background": "light"
     },
     "output_type": "display_data"
    }
   ],
   "source": [
    "from scipy.stats import poisson\n",
    "import seaborn as sb\n",
    "\n",
    "data_binom = poisson.rvs(mu=4, size=10000)\n",
    "ax = sb.distplot(data_binom,\n",
    "                  kde=True,\n",
    "                  color='green',\n",
    "                  hist_kws={\"linewidth\": 25,'alpha':1})\n",
    "ax.set(xlabel='Poisson', ylabel='Frequency')"
   ]
  },
  {
   "cell_type": "code",
   "execution_count": 19,
   "id": "4a2d9a31",
   "metadata": {},
   "outputs": [],
   "source": [
    "#Python - Bernoulli Distribution\n"
   ]
  },
  {
   "cell_type": "code",
   "execution_count": null,
   "id": "9acba518",
   "metadata": {},
   "outputs": [],
   "source": []
  }
 ],
 "metadata": {
  "kernelspec": {
   "display_name": "Python 3",
   "language": "python",
   "name": "python3"
  },
  "language_info": {
   "codemirror_mode": {
    "name": "ipython",
    "version": 3
   },
   "file_extension": ".py",
   "mimetype": "text/x-python",
   "name": "python",
   "nbconvert_exporter": "python",
   "pygments_lexer": "ipython3",
   "version": "3.8.8"
  }
 },
 "nbformat": 4,
 "nbformat_minor": 5
}
