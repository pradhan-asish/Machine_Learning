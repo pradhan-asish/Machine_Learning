{
 "cells": [
  {
   "cell_type": "code",
   "execution_count": 1,
   "id": "919e22e4",
   "metadata": {},
   "outputs": [],
   "source": [
    "x = [99,86,87,88,111,86,103,87,94,78,77,85,86]"
   ]
  },
  {
   "cell_type": "code",
   "execution_count": 2,
   "id": "040c64fc",
   "metadata": {},
   "outputs": [
    {
     "data": {
      "text/plain": [
       "[99, 86, 87, 88, 111, 86, 103, 87, 94, 78, 77, 85, 86]"
      ]
     },
     "execution_count": 2,
     "metadata": {},
     "output_type": "execute_result"
    }
   ],
   "source": [
    "x"
   ]
  },
  {
   "cell_type": "markdown",
   "id": "3ffa1311",
   "metadata": {},
   "source": [
    "# Basic data type"
   ]
  },
  {
   "cell_type": "markdown",
   "id": "89b459a7",
   "metadata": {},
   "source": [
    "Thre types of data:\n",
    "- Numerical ( Discrete Data type/continous data type )\n",
    "- Categroical ( e.g. Color, yes/no )\n",
    "- Ordinal ( Categorical data type which can be measured e.g. grade of children)"
   ]
  },
  {
   "cell_type": "markdown",
   "id": "c377bfeb",
   "metadata": {},
   "source": [
    "# Mean Median Mode"
   ]
  },
  {
   "cell_type": "markdown",
   "id": "7b0a3438",
   "metadata": {},
   "source": [
    "- Mean (the average value)\n",
    "- Meadian (the mid point value)\n",
    "- Mode (the most common value)"
   ]
  },
  {
   "cell_type": "code",
   "execution_count": 4,
   "id": "7bb8153a",
   "metadata": {},
   "outputs": [],
   "source": [
    "speed = [99,86,87,88,111,86,103,87,94,78,77,85,86]"
   ]
  },
  {
   "cell_type": "code",
   "execution_count": 6,
   "id": "01b4ba00",
   "metadata": {},
   "outputs": [
    {
     "data": {
      "text/plain": [
       "89.76923076923077"
      ]
     },
     "execution_count": 6,
     "metadata": {},
     "output_type": "execute_result"
    }
   ],
   "source": [
    "import numpy as np\n",
    "np.mean(speed)\n"
   ]
  },
  {
   "cell_type": "code",
   "execution_count": 8,
   "id": "e3c02ff0",
   "metadata": {},
   "outputs": [
    {
     "data": {
      "text/plain": [
       "87.0"
      ]
     },
     "execution_count": 8,
     "metadata": {},
     "output_type": "execute_result"
    }
   ],
   "source": [
    "np.median(speed)"
   ]
  },
  {
   "cell_type": "code",
   "execution_count": 9,
   "id": "13a91d41",
   "metadata": {},
   "outputs": [
    {
     "data": {
      "text/plain": [
       "ModeResult(mode=array([86]), count=array([3]))"
      ]
     },
     "execution_count": 9,
     "metadata": {},
     "output_type": "execute_result"
    }
   ],
   "source": [
    "from scipy import stats\n",
    "\n",
    "stats.mode(speed)"
   ]
  },
  {
   "cell_type": "markdown",
   "id": "8b04bbe8",
   "metadata": {},
   "source": [
    "# Standard Deviation"
   ]
  },
  {
   "cell_type": "markdown",
   "id": "511dde76",
   "metadata": {},
   "source": [
    "Standard deviation is a number that describes how spread out the values are.\n",
    "\n",
    "A low standard deviation means that most of the numbers are close to the mean (average) value.\n",
    "\n",
    "A high standard deviation means that the values are spread out over a wider range."
   ]
  },
  {
   "cell_type": "code",
   "execution_count": 11,
   "id": "2a2298c2",
   "metadata": {},
   "outputs": [],
   "source": [
    "speed = [86,87,88,86,87,85,86]"
   ]
  },
  {
   "cell_type": "code",
   "execution_count": 12,
   "id": "603a5061",
   "metadata": {},
   "outputs": [
    {
     "name": "stdout",
     "output_type": "stream",
     "text": [
      "0.9035079029052513\n"
     ]
    }
   ],
   "source": [
    "import numpy\n",
    "\n",
    "speed = [86,87,88,86,87,85,86]\n",
    "\n",
    "x = numpy.std(speed)\n",
    "\n",
    "print(x)"
   ]
  },
  {
   "cell_type": "code",
   "execution_count": 13,
   "id": "dd2bf32d",
   "metadata": {},
   "outputs": [
    {
     "name": "stdout",
     "output_type": "stream",
     "text": [
      "37.84501153334721\n"
     ]
    }
   ],
   "source": [
    "import numpy\n",
    "\n",
    "speed = [32,111,138,28,59,77,97]\n",
    "\n",
    "x = numpy.std(speed)\n",
    "\n",
    "print(x)"
   ]
  },
  {
   "cell_type": "markdown",
   "id": "c3515c98",
   "metadata": {},
   "source": [
    "# Variance"
   ]
  },
  {
   "cell_type": "code",
   "execution_count": null,
   "id": "52595b20",
   "metadata": {},
   "outputs": [],
   "source": []
  }
 ],
 "metadata": {
  "kernelspec": {
   "display_name": "Python 3",
   "language": "python",
   "name": "python3"
  },
  "language_info": {
   "codemirror_mode": {
    "name": "ipython",
    "version": 3
   },
   "file_extension": ".py",
   "mimetype": "text/x-python",
   "name": "python",
   "nbconvert_exporter": "python",
   "pygments_lexer": "ipython3",
   "version": "3.8.8"
  }
 },
 "nbformat": 4,
 "nbformat_minor": 5
}
