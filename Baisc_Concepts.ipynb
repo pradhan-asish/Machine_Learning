{
 "cells": [
  {
   "cell_type": "code",
   "execution_count": 1,
   "id": "2dd38653",
   "metadata": {},
   "outputs": [],
   "source": [
    "x = [99,86,87,88,111,86,103,87,94,78,77,85,86]"
   ]
  },
  {
   "cell_type": "code",
   "execution_count": 2,
   "id": "eb001eaa",
   "metadata": {},
   "outputs": [
    {
     "data": {
      "text/plain": [
       "[99, 86, 87, 88, 111, 86, 103, 87, 94, 78, 77, 85, 86]"
      ]
     },
     "execution_count": 2,
     "metadata": {},
     "output_type": "execute_result"
    }
   ],
   "source": [
    "x"
   ]
  },
  {
   "cell_type": "markdown",
   "id": "3105d6cd",
   "metadata": {},
   "source": [
    "# Basic data type"
   ]
  },
  {
   "cell_type": "markdown",
   "id": "9c785da9",
   "metadata": {},
   "source": [
    "Thre types of data:\n",
    "- Numerical ( Discrete Data type/continous data type )\n",
    "- Categroical ( e.g. Color, yes/no )\n",
    "- Ordinal ( Categorical data type which can be measured e.g. grade of children)"
   ]
  },
  {
   "cell_type": "markdown",
   "id": "7cac7523",
   "metadata": {},
   "source": [
    "# Mean Median Mode"
   ]
  },
  {
   "cell_type": "markdown",
   "id": "b6055100",
   "metadata": {},
   "source": [
    "- Mean (the average value)\n",
    "- Meadian (the mid point value)\n",
    "- Mode (the most common value)"
   ]
  },
  {
   "cell_type": "code",
   "execution_count": 4,
   "id": "75e38f89",
   "metadata": {},
   "outputs": [],
   "source": [
    "speed = [99,86,87,88,111,86,103,87,94,78,77,85,86]"
   ]
  },
  {
   "cell_type": "code",
   "execution_count": 6,
   "id": "b2aeab18",
   "metadata": {},
   "outputs": [
    {
     "data": {
      "text/plain": [
       "89.76923076923077"
      ]
     },
     "execution_count": 6,
     "metadata": {},
     "output_type": "execute_result"
    }
   ],
   "source": [
    "import numpy as np\n",
    "np.mean(speed)\n"
   ]
  },
  {
   "cell_type": "code",
   "execution_count": 8,
   "id": "1205abf1",
   "metadata": {},
   "outputs": [
    {
     "data": {
      "text/plain": [
       "87.0"
      ]
     },
     "execution_count": 8,
     "metadata": {},
     "output_type": "execute_result"
    }
   ],
   "source": [
    "np.median(speed)"
   ]
  },
  {
   "cell_type": "code",
   "execution_count": 9,
   "id": "90f82110",
   "metadata": {},
   "outputs": [
    {
     "data": {
      "text/plain": [
       "ModeResult(mode=array([86]), count=array([3]))"
      ]
     },
     "execution_count": 9,
     "metadata": {},
     "output_type": "execute_result"
    }
   ],
   "source": [
    "from scipy import stats\n",
    "\n",
    "stats.mode(speed)"
   ]
  },
  {
   "cell_type": "markdown",
   "id": "8df24036",
   "metadata": {},
   "source": [
    "# Standard Deviation"
   ]
  },
  {
   "cell_type": "markdown",
   "id": "a36b95b7",
   "metadata": {},
   "source": [
    "Standard deviation is a number that describes how spread out the values are.\n",
    "\n",
    "A low standard deviation means that most of the numbers are close to the mean (average) value.\n",
    "\n",
    "A high standard deviation means that the values are spread out over a wider range."
   ]
  },
  {
   "cell_type": "code",
   "execution_count": 11,
   "id": "b03286c0",
   "metadata": {},
   "outputs": [],
   "source": [
    "speed = [86,87,88,86,87,85,86]"
   ]
  },
  {
   "cell_type": "code",
   "execution_count": 12,
   "id": "151fdcea",
   "metadata": {},
   "outputs": [
    {
     "name": "stdout",
     "output_type": "stream",
     "text": [
      "0.9035079029052513\n"
     ]
    }
   ],
   "source": [
    "import numpy\n",
    "\n",
    "speed = [86,87,88,86,87,85,86]\n",
    "\n",
    "x = numpy.std(speed)\n",
    "\n",
    "print(x)"
   ]
  },
  {
   "cell_type": "code",
   "execution_count": 13,
   "id": "1d79638d",
   "metadata": {},
   "outputs": [
    {
     "name": "stdout",
     "output_type": "stream",
     "text": [
      "37.84501153334721\n"
     ]
    }
   ],
   "source": [
    "import numpy\n",
    "\n",
    "speed = [32,111,138,28,59,77,97]\n",
    "\n",
    "x = numpy.std(speed)\n",
    "\n",
    "print(x)"
   ]
  },
  {
   "cell_type": "markdown",
   "id": "70890791",
   "metadata": {},
   "source": [
    "# Variance"
   ]
  },
  {
   "cell_type": "markdown",
   "id": "e0f6e86f",
   "metadata": {},
   "source": [
    "Variance is another number that indicates how spread out the values are."
   ]
  },
  {
   "cell_type": "code",
   "execution_count": 14,
   "id": "4bac5407",
   "metadata": {},
   "outputs": [
    {
     "name": "stdout",
     "output_type": "stream",
     "text": [
      "1432.2448979591834\n"
     ]
    }
   ],
   "source": [
    "import numpy\n",
    "\n",
    "speed = [32,111,138,28,59,77,97]\n",
    "\n",
    "x = numpy.var(speed)\n",
    "\n",
    "print(x)"
   ]
  },
  {
   "cell_type": "markdown",
   "id": "501f9cbb",
   "metadata": {},
   "source": [
    "# Percentile"
   ]
  },
  {
   "cell_type": "markdown",
   "id": "eeab1ee1",
   "metadata": {},
   "source": [
    "Percentiles are used in statistics to give you a number that describes the value that a given percent of the values are lower than."
   ]
  },
  {
   "cell_type": "code",
   "execution_count": 15,
   "id": "ea12cba4",
   "metadata": {},
   "outputs": [
    {
     "name": "stdout",
     "output_type": "stream",
     "text": [
      "43.0\n"
     ]
    }
   ],
   "source": [
    "import numpy\n",
    "\n",
    "ages = [5,31,43,48,50,41,7,11,15,39,80,82,32,2,8,6,25,36,27,61,31]\n",
    "\n",
    "x = numpy.percentile(ages, 75)\n",
    "\n",
    "print(x)"
   ]
  },
  {
   "cell_type": "code",
   "execution_count": 16,
   "id": "6ca0943f",
   "metadata": {},
   "outputs": [
    {
     "data": {
      "text/plain": [
       "61.0"
      ]
     },
     "execution_count": 16,
     "metadata": {},
     "output_type": "execute_result"
    }
   ],
   "source": [
    "x = numpy.percentile(ages, 90)\n",
    "x"
   ]
  },
  {
   "cell_type": "markdown",
   "id": "a695f0c1",
   "metadata": {},
   "source": [
    "# Data Distribution"
   ]
  },
  {
   "cell_type": "markdown",
   "id": "b8b4b02f",
   "metadata": {},
   "source": [
    "#  Histogram"
   ]
  },
  {
   "cell_type": "markdown",
   "id": "44cedaf3",
   "metadata": {},
   "source": [
    "To visualize the data set we can draw a histogram with the data we collected."
   ]
  },
  {
   "cell_type": "code",
   "execution_count": 17,
   "id": "9f96aa9d",
   "metadata": {},
   "outputs": [
    {
     "data": {
      "image/png": "[encoded data removed]",
      "text/plain": [
       "<Figure size 432x288 with 1 Axes>"
      ]
     },
     "metadata": {
      "needs_background": "light"
     },
     "output_type": "display_data"
    }
   ],
   "source": [
    "import numpy\n",
    "import matplotlib.pyplot as plt\n",
    "\n",
    "x = numpy.random.uniform(0.0, 5.0, 250)\n",
    "\n",
    "plt.hist(x, 5)\n",
    "plt.show()"
   ]
  },
  {
   "cell_type": "markdown",
   "id": "ca47555b",
   "metadata": {},
   "source": [
    "# Big Data Distributions"
   ]
  },
  {
   "cell_type": "code",
   "execution_count": 18,
   "id": "8e8c94e2",
   "metadata": {},
   "outputs": [
    {
     "data": {
      "image/png": "[encoded data removed]",
      "text/plain": [
       "<Figure size 432x288 with 1 Axes>"
      ]
     },
     "metadata": {
      "needs_background": "light"
     },
     "output_type": "display_data"
    }
   ],
   "source": [
    "import numpy\n",
    "import matplotlib.pyplot as plt\n",
    "\n",
    "x = numpy.random.uniform(0.0, 5.0, 100000)\n",
    "\n",
    "plt.hist(x, 100)\n",
    "plt.show()\n"
   ]
  },
  {
   "cell_type": "markdown",
   "id": "f39b46a7",
   "metadata": {},
   "source": [
    "# Normal Data Distribution"
   ]
  },
  {
   "cell_type": "markdown",
   "id": "8b3325b7",
   "metadata": {},
   "source": [
    " A normal distribution graph is also known as the bell curve because of it's characteristic shape of a bell."
   ]
  },
  {
   "cell_type": "code",
   "execution_count": 1,
   "id": "38a89aef",
   "metadata": {},
   "outputs": [
    {
     "data": {
      "image/png": "[encoded data removed]",
      "text/plain": [
       "<Figure size 432x288 with 1 Axes>"
      ]
     },
     "metadata": {
      "needs_background": "light"
     },
     "output_type": "display_data"
    }
   ],
   "source": [
    "import numpy\n",
    "import matplotlib.pyplot as plt\n",
    "\n",
    "x = numpy.random.normal(5.0, 1.0, 100000)\n",
    "\n",
    "plt.hist(x, 100)\n",
    "plt.show()"
   ]
  },
  {
   "cell_type": "markdown",
   "id": "55eb0538",
   "metadata": {},
   "source": [
    "# Scatter Plot"
   ]
  },
  {
   "cell_type": "markdown",
   "id": "abdfae39",
   "metadata": {},
   "source": [
    "A scatter plot is a diagram where each value in the data set is represented by a dot.\n"
   ]
  },
  {
   "cell_type": "code",
   "execution_count": 2,
   "id": "f1410ab7",
   "metadata": {},
   "outputs": [
    {
     "data": {
      "image/png": "[encoded data removed]",
      "text/plain": [
       "<Figure size 432x288 with 1 Axes>"
      ]
     },
     "metadata": {
      "needs_background": "light"
     },
     "output_type": "display_data"
    }
   ],
   "source": [
    "import matplotlib.pyplot as plt\n",
    "\n",
    "x = [5,7,8,7,2,17,2,9,4,11,12,9,6]\n",
    "y = [99,86,87,88,111,86,103,87,94,78,77,85,86]\n",
    "\n",
    "plt.scatter(x, y)\n",
    "plt.show()"
   ]
  },
  {
   "cell_type": "code",
   "execution_count": null,
   "id": "04bc1c34",
   "metadata": {},
   "outputs": [],
   "source": []
  }
 ],
 "metadata": {
  "kernelspec": {
   "display_name": "Python 3",
   "language": "python",
   "name": "python3"
  },
  "language_info": {
   "codemirror_mode": {
    "name": "ipython",
    "version": 3
   },
   "file_extension": ".py",
   "mimetype": "text/x-python",
   "name": "python",
   "nbconvert_exporter": "python",
   "pygments_lexer": "ipython3",
   "version": "3.8.8"
  }
 },
 "nbformat": 4,
 "nbformat_minor": 5
}
