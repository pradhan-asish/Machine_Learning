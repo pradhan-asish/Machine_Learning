{
 "cells": [
  {
   "cell_type": "code",
   "execution_count": 1,
   "id": "7a47d949",
   "metadata": {},
   "outputs": [],
   "source": [
    "x = [99,86,87,88,111,86,103,87,94,78,77,85,86]"
   ]
  },
  {
   "cell_type": "code",
   "execution_count": 2,
   "id": "8f216df7",
   "metadata": {},
   "outputs": [
    {
     "data": {
      "text/plain": [
       "[99, 86, 87, 88, 111, 86, 103, 87, 94, 78, 77, 85, 86]"
      ]
     },
     "execution_count": 2,
     "metadata": {},
     "output_type": "execute_result"
    }
   ],
   "source": [
    "x"
   ]
  },
  {
   "cell_type": "markdown",
   "id": "9dcef595",
   "metadata": {},
   "source": [
    "# Basic data type"
   ]
  },
  {
   "cell_type": "markdown",
   "id": "e114fb31",
   "metadata": {},
   "source": [
    "Thre types of data:\n",
    "- Numerical ( Discrete Data type/continous data type )\n",
    "- Categroical ( e.g. Color, yes/no )\n",
    "- Ordinal ( Categorical data type which can be measured e.g. grade of children)"
   ]
  },
  {
   "cell_type": "markdown",
   "id": "de510bd4",
   "metadata": {},
   "source": [
    "# Mean Median Mode"
   ]
  },
  {
   "cell_type": "markdown",
   "id": "de2e84ef",
   "metadata": {},
   "source": [
    "- Mean (the average value)\n",
    "- Meadian (the mid point value)\n",
    "- Mode (the most common value)"
   ]
  },
  {
   "cell_type": "code",
   "execution_count": 4,
   "id": "dcbc2717",
   "metadata": {},
   "outputs": [],
   "source": [
    "speed = [99,86,87,88,111,86,103,87,94,78,77,85,86]"
   ]
  },
  {
   "cell_type": "code",
   "execution_count": 6,
   "id": "d9a64323",
   "metadata": {},
   "outputs": [
    {
     "data": {
      "text/plain": [
       "89.76923076923077"
      ]
     },
     "execution_count": 6,
     "metadata": {},
     "output_type": "execute_result"
    }
   ],
   "source": [
    "import numpy as np\n",
    "np.mean(speed)\n"
   ]
  },
  {
   "cell_type": "code",
   "execution_count": 8,
   "id": "b48ef47b",
   "metadata": {},
   "outputs": [
    {
     "data": {
      "text/plain": [
       "87.0"
      ]
     },
     "execution_count": 8,
     "metadata": {},
     "output_type": "execute_result"
    }
   ],
   "source": [
    "np.median(speed)"
   ]
  },
  {
   "cell_type": "code",
   "execution_count": 9,
   "id": "1495be11",
   "metadata": {},
   "outputs": [
    {
     "data": {
      "text/plain": [
       "ModeResult(mode=array([86]), count=array([3]))"
      ]
     },
     "execution_count": 9,
     "metadata": {},
     "output_type": "execute_result"
    }
   ],
   "source": [
    "from scipy import stats\n",
    "\n",
    "stats.mode(speed)"
   ]
  },
  {
   "cell_type": "markdown",
   "id": "7e8a1e1a",
   "metadata": {},
   "source": [
    "# Standard Deviation"
   ]
  },
  {
   "cell_type": "markdown",
   "id": "37258e5e",
   "metadata": {},
   "source": [
    "Standard deviation is a number that describes how spread out the values are.\n",
    "\n",
    "A low standard deviation means that most of the numbers are close to the mean (average) value.\n",
    "\n",
    "A high standard deviation means that the values are spread out over a wider range."
   ]
  },
  {
   "cell_type": "code",
   "execution_count": 11,
   "id": "fe4ef0af",
   "metadata": {},
   "outputs": [],
   "source": [
    "speed = [86,87,88,86,87,85,86]"
   ]
  },
  {
   "cell_type": "code",
   "execution_count": 12,
   "id": "1548adcb",
   "metadata": {},
   "outputs": [
    {
     "name": "stdout",
     "output_type": "stream",
     "text": [
      "0.9035079029052513\n"
     ]
    }
   ],
   "source": [
    "import numpy\n",
    "\n",
    "speed = [86,87,88,86,87,85,86]\n",
    "\n",
    "x = numpy.std(speed)\n",
    "\n",
    "print(x)"
   ]
  },
  {
   "cell_type": "code",
   "execution_count": 13,
   "id": "a17e4a5d",
   "metadata": {},
   "outputs": [
    {
     "name": "stdout",
     "output_type": "stream",
     "text": [
      "37.84501153334721\n"
     ]
    }
   ],
   "source": [
    "import numpy\n",
    "\n",
    "speed = [32,111,138,28,59,77,97]\n",
    "\n",
    "x = numpy.std(speed)\n",
    "\n",
    "print(x)"
   ]
  },
  {
   "cell_type": "markdown",
   "id": "7787298c",
   "metadata": {},
   "source": [
    "# Variance"
   ]
  },
  {
   "cell_type": "markdown",
   "id": "14300808",
   "metadata": {},
   "source": [
    "Variance is another number that indicates how spread out the values are."
   ]
  },
  {
   "cell_type": "code",
   "execution_count": 14,
   "id": "f0f37357",
   "metadata": {},
   "outputs": [
    {
     "name": "stdout",
     "output_type": "stream",
     "text": [
      "1432.2448979591834\n"
     ]
    }
   ],
   "source": [
    "import numpy\n",
    "\n",
    "speed = [32,111,138,28,59,77,97]\n",
    "\n",
    "x = numpy.var(speed)\n",
    "\n",
    "print(x)"
   ]
  },
  {
   "cell_type": "markdown",
   "id": "a2585b31",
   "metadata": {},
   "source": [
    "# Percentile"
   ]
  },
  {
   "cell_type": "markdown",
   "id": "ac925c47",
   "metadata": {},
   "source": [
    "Percentiles are used in statistics to give you a number that describes the value that a given percent of the values are lower than."
   ]
  },
  {
   "cell_type": "code",
   "execution_count": 15,
   "id": "5801254e",
   "metadata": {},
   "outputs": [
    {
     "name": "stdout",
     "output_type": "stream",
     "text": [
      "43.0\n"
     ]
    }
   ],
   "source": [
    "import numpy\n",
    "\n",
    "ages = [5,31,43,48,50,41,7,11,15,39,80,82,32,2,8,6,25,36,27,61,31]\n",
    "\n",
    "x = numpy.percentile(ages, 75)\n",
    "\n",
    "print(x)"
   ]
  },
  {
   "cell_type": "code",
   "execution_count": 16,
   "id": "63b9c9fb",
   "metadata": {},
   "outputs": [
    {
     "data": {
      "text/plain": [
       "61.0"
      ]
     },
     "execution_count": 16,
     "metadata": {},
     "output_type": "execute_result"
    }
   ],
   "source": [
    "x = numpy.percentile(ages, 90)\n",
    "x"
   ]
  },
  {
   "cell_type": "markdown",
   "id": "3d4eed70",
   "metadata": {},
   "source": [
    "# Data Distribution"
   ]
  },
  {
   "cell_type": "markdown",
   "id": "43bac618",
   "metadata": {},
   "source": [
    "#  Histogram"
   ]
  },
  {
   "cell_type": "code",
   "execution_count": null,
   "id": "ddf80a6d",
   "metadata": {},
   "outputs": [],
   "source": []
  }
 ],
 "metadata": {
  "kernelspec": {
   "display_name": "Python 3",
   "language": "python",
   "name": "python3"
  },
  "language_info": {
   "codemirror_mode": {
    "name": "ipython",
    "version": 3
   },
   "file_extension": ".py",
   "mimetype": "text/x-python",
   "name": "python",
   "nbconvert_exporter": "python",
   "pygments_lexer": "ipython3",
   "version": "3.8.8"
  }
 },
 "nbformat": 4,
 "nbformat_minor": 5
}
