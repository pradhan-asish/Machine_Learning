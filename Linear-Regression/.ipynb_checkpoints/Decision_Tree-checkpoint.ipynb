{
 "cells": [
  {
   "cell_type": "code",
   "execution_count": null,
   "id": "1f6e1ac4",
   "metadata": {},
   "outputs": [],
   "source": [
    "# import numpy package for arrays and stuff\n",
    "import numpy as np \n",
    "  \n",
    "# import matplotlib.pyplot for plotting our result\n",
    "import matplotlib.pyplot as plt\n",
    "  \n",
    "# import pandas for importing csv files \n",
    "import pandas as pd "
   ]
  },
  {
   "cell_type": "code",
   "execution_count": null,
   "id": "f54e93a5",
   "metadata": {},
   "outputs": [],
   "source": []
  }
 ],
 "metadata": {
  "kernelspec": {
   "display_name": "Python 3",
   "language": "python",
   "name": "python3"
  },
  "language_info": {
   "codemirror_mode": {
    "name": "ipython",
    "version": 3
   },
   "file_extension": ".py",
   "mimetype": "text/x-python",
   "name": "python",
   "nbconvert_exporter": "python",
   "pygments_lexer": "ipython3",
   "version": "3.8.8"
  }
 },
 "nbformat": 4,
 "nbformat_minor": 5
}
