{
 "cells": [
  {
   "cell_type": "code",
   "execution_count": 1,
   "id": "4e8e0d72",
   "metadata": {},
   "outputs": [],
   "source": [
    "# import numpy package for arrays and stuff\n",
    "import numpy as np \n",
    "  \n",
    "# import matplotlib.pyplot for plotting our result\n",
    "import matplotlib.pyplot as plt\n",
    "  \n",
    "# import pandas for importing csv files \n",
    "import pandas as pd "
   ]
  },
  {
   "cell_type": "code",
   "execution_count": 2,
   "id": "e231cd1e",
   "metadata": {},
   "outputs": [
    {
     "name": "stdout",
     "output_type": "stream",
     "text": [
      "[['Asset Flip' '100' '1000']\n",
      " ['Text Based' '500' '3000']\n",
      " ['Visual Novel' '1500' '5000']\n",
      " ['2D Pixel Art' '3500' '8000']\n",
      " ['2D Vector Art' '5000' '6500']\n",
      " ['Strategy' '6000' '7000']\n",
      " ['First Person Shooter' '8000' '15000']\n",
      " ['Simulator' '9500' '20000']\n",
      " ['Racing' '12000' '21000']\n",
      " ['RPG' '14000' '25000']\n",
      " ['Sandbox' '15500' '27000']\n",
      " ['Open-World' '16500' '30000']\n",
      " ['MMOFPS' '25000' '52000']\n",
      " ['MMORPG' '30000' '80000']]\n"
     ]
    }
   ],
   "source": [
    "dataset = np.array(\n",
    "[['Asset Flip', 100, 1000],\n",
    "['Text Based', 500, 3000],\n",
    "['Visual Novel', 1500, 5000],\n",
    "['2D Pixel Art', 3500, 8000],\n",
    "['2D Vector Art', 5000, 6500],\n",
    "['Strategy', 6000, 7000],\n",
    "['First Person Shooter', 8000, 15000],\n",
    "['Simulator', 9500, 20000],\n",
    "['Racing', 12000, 21000],\n",
    "['RPG', 14000, 25000],\n",
    "['Sandbox', 15500, 27000],\n",
    "['Open-World', 16500, 30000],\n",
    "['MMOFPS', 25000, 52000],\n",
    "['MMORPG', 30000, 80000]\n",
    "])\n",
    "  \n",
    "# print the dataset\n",
    "print(dataset) "
   ]
  },
  {
   "cell_type": "code",
   "execution_count": null,
   "id": "c4141286",
   "metadata": {},
   "outputs": [],
   "source": []
  }
 ],
 "metadata": {
  "kernelspec": {
   "display_name": "Python 3",
   "language": "python",
   "name": "python3"
  },
  "language_info": {
   "codemirror_mode": {
    "name": "ipython",
    "version": 3
   },
   "file_extension": ".py",
   "mimetype": "text/x-python",
   "name": "python",
   "nbconvert_exporter": "python",
   "pygments_lexer": "ipython3",
   "version": "3.8.8"
  }
 },
 "nbformat": 4,
 "nbformat_minor": 5
}
